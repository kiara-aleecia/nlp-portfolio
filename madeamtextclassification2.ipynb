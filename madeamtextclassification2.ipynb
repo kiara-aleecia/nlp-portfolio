{
  "nbformat": 4,
  "nbformat_minor": 0,
  "metadata": {
    "colab": {
      "provenance": []
    },
    "kernelspec": {
      "name": "python3",
      "display_name": "Python 3"
    },
    "language_info": {
      "name": "python"
    }
  },
  "cells": [
    {
      "cell_type": "code",
      "execution_count": null,
      "metadata": {
        "id": "Q9notLv7Xnpu"
      },
      "outputs": [],
      "source": [
        "'''\n",
        "[X]- find dataset (**mental health corpus or genius lyrics corpus)\n",
        "[X]- preprocess scraped data\n",
        "[X]- divide into train/test\n",
        "[X]- create graph showing distribution of target classes\n",
        "[X]- describe dataset and what the model should be able to predict\n",
        "- evalute models on test data\n",
        "  - sequential model \n",
        "  - RNN\n",
        "  - CNN\n",
        "  - etc (?)\n",
        "  - embedding approaches\n",
        "- write up analysis of performance of various approaches\n",
        "- accuracy does not determine grade -> quality of analysis determines grade\n",
        "'''"
      ]
    },
    {
      "cell_type": "code",
      "source": [
        "# some necessary packages\n",
        "import tensorflow as tf\n",
        "from tensorflow.keras.preprocessing.text import Tokenizer\n",
        "from tensorflow.keras import layers, models\n",
        "\n",
        "from sklearn.preprocessing import LabelEncoder\n",
        "import pickle\n",
        "import numpy as np\n",
        "import pandas as pd\n",
        "# set seed for reproducibility\n",
        "np.random.seed(1234)\n",
        "\n",
        "# set up import from local file\n",
        "from google.colab import files\n",
        "uploaded = files.upload()\n"
      ],
      "metadata": {
        "colab": {
          "base_uri": "https://localhost:8080/",
          "height": 90
        },
        "id": "npgmVeq7ee8x",
        "outputId": "3c19ea01-4001-48f4-c67b-69c4cf4f90ed"
      },
      "execution_count": null,
      "outputs": [
        {
          "output_type": "display_data",
          "data": {
            "text/plain": [
              "<IPython.core.display.HTML object>"
            ],
            "text/html": [
              "\n",
              "     <input type=\"file\" id=\"files-1a3915f3-fa94-47c9-9ae2-fe856023916a\" name=\"files[]\" multiple disabled\n",
              "        style=\"border:none\" />\n",
              "     <output id=\"result-1a3915f3-fa94-47c9-9ae2-fe856023916a\">\n",
              "      Upload widget is only available when the cell has been executed in the\n",
              "      current browser session. Please rerun this cell to enable.\n",
              "      </output>\n",
              "      <script>// Copyright 2017 Google LLC\n",
              "//\n",
              "// Licensed under the Apache License, Version 2.0 (the \"License\");\n",
              "// you may not use this file except in compliance with the License.\n",
              "// You may obtain a copy of the License at\n",
              "//\n",
              "//      http://www.apache.org/licenses/LICENSE-2.0\n",
              "//\n",
              "// Unless required by applicable law or agreed to in writing, software\n",
              "// distributed under the License is distributed on an \"AS IS\" BASIS,\n",
              "// WITHOUT WARRANTIES OR CONDITIONS OF ANY KIND, either express or implied.\n",
              "// See the License for the specific language governing permissions and\n",
              "// limitations under the License.\n",
              "\n",
              "/**\n",
              " * @fileoverview Helpers for google.colab Python module.\n",
              " */\n",
              "(function(scope) {\n",
              "function span(text, styleAttributes = {}) {\n",
              "  const element = document.createElement('span');\n",
              "  element.textContent = text;\n",
              "  for (const key of Object.keys(styleAttributes)) {\n",
              "    element.style[key] = styleAttributes[key];\n",
              "  }\n",
              "  return element;\n",
              "}\n",
              "\n",
              "// Max number of bytes which will be uploaded at a time.\n",
              "const MAX_PAYLOAD_SIZE = 100 * 1024;\n",
              "\n",
              "function _uploadFiles(inputId, outputId) {\n",
              "  const steps = uploadFilesStep(inputId, outputId);\n",
              "  const outputElement = document.getElementById(outputId);\n",
              "  // Cache steps on the outputElement to make it available for the next call\n",
              "  // to uploadFilesContinue from Python.\n",
              "  outputElement.steps = steps;\n",
              "\n",
              "  return _uploadFilesContinue(outputId);\n",
              "}\n",
              "\n",
              "// This is roughly an async generator (not supported in the browser yet),\n",
              "// where there are multiple asynchronous steps and the Python side is going\n",
              "// to poll for completion of each step.\n",
              "// This uses a Promise to block the python side on completion of each step,\n",
              "// then passes the result of the previous step as the input to the next step.\n",
              "function _uploadFilesContinue(outputId) {\n",
              "  const outputElement = document.getElementById(outputId);\n",
              "  const steps = outputElement.steps;\n",
              "\n",
              "  const next = steps.next(outputElement.lastPromiseValue);\n",
              "  return Promise.resolve(next.value.promise).then((value) => {\n",
              "    // Cache the last promise value to make it available to the next\n",
              "    // step of the generator.\n",
              "    outputElement.lastPromiseValue = value;\n",
              "    return next.value.response;\n",
              "  });\n",
              "}\n",
              "\n",
              "/**\n",
              " * Generator function which is called between each async step of the upload\n",
              " * process.\n",
              " * @param {string} inputId Element ID of the input file picker element.\n",
              " * @param {string} outputId Element ID of the output display.\n",
              " * @return {!Iterable<!Object>} Iterable of next steps.\n",
              " */\n",
              "function* uploadFilesStep(inputId, outputId) {\n",
              "  const inputElement = document.getElementById(inputId);\n",
              "  inputElement.disabled = false;\n",
              "\n",
              "  const outputElement = document.getElementById(outputId);\n",
              "  outputElement.innerHTML = '';\n",
              "\n",
              "  const pickedPromise = new Promise((resolve) => {\n",
              "    inputElement.addEventListener('change', (e) => {\n",
              "      resolve(e.target.files);\n",
              "    });\n",
              "  });\n",
              "\n",
              "  const cancel = document.createElement('button');\n",
              "  inputElement.parentElement.appendChild(cancel);\n",
              "  cancel.textContent = 'Cancel upload';\n",
              "  const cancelPromise = new Promise((resolve) => {\n",
              "    cancel.onclick = () => {\n",
              "      resolve(null);\n",
              "    };\n",
              "  });\n",
              "\n",
              "  // Wait for the user to pick the files.\n",
              "  const files = yield {\n",
              "    promise: Promise.race([pickedPromise, cancelPromise]),\n",
              "    response: {\n",
              "      action: 'starting',\n",
              "    }\n",
              "  };\n",
              "\n",
              "  cancel.remove();\n",
              "\n",
              "  // Disable the input element since further picks are not allowed.\n",
              "  inputElement.disabled = true;\n",
              "\n",
              "  if (!files) {\n",
              "    return {\n",
              "      response: {\n",
              "        action: 'complete',\n",
              "      }\n",
              "    };\n",
              "  }\n",
              "\n",
              "  for (const file of files) {\n",
              "    const li = document.createElement('li');\n",
              "    li.append(span(file.name, {fontWeight: 'bold'}));\n",
              "    li.append(span(\n",
              "        `(${file.type || 'n/a'}) - ${file.size} bytes, ` +\n",
              "        `last modified: ${\n",
              "            file.lastModifiedDate ? file.lastModifiedDate.toLocaleDateString() :\n",
              "                                    'n/a'} - `));\n",
              "    const percent = span('0% done');\n",
              "    li.appendChild(percent);\n",
              "\n",
              "    outputElement.appendChild(li);\n",
              "\n",
              "    const fileDataPromise = new Promise((resolve) => {\n",
              "      const reader = new FileReader();\n",
              "      reader.onload = (e) => {\n",
              "        resolve(e.target.result);\n",
              "      };\n",
              "      reader.readAsArrayBuffer(file);\n",
              "    });\n",
              "    // Wait for the data to be ready.\n",
              "    let fileData = yield {\n",
              "      promise: fileDataPromise,\n",
              "      response: {\n",
              "        action: 'continue',\n",
              "      }\n",
              "    };\n",
              "\n",
              "    // Use a chunked sending to avoid message size limits. See b/62115660.\n",
              "    let position = 0;\n",
              "    do {\n",
              "      const length = Math.min(fileData.byteLength - position, MAX_PAYLOAD_SIZE);\n",
              "      const chunk = new Uint8Array(fileData, position, length);\n",
              "      position += length;\n",
              "\n",
              "      const base64 = btoa(String.fromCharCode.apply(null, chunk));\n",
              "      yield {\n",
              "        response: {\n",
              "          action: 'append',\n",
              "          file: file.name,\n",
              "          data: base64,\n",
              "        },\n",
              "      };\n",
              "\n",
              "      let percentDone = fileData.byteLength === 0 ?\n",
              "          100 :\n",
              "          Math.round((position / fileData.byteLength) * 100);\n",
              "      percent.textContent = `${percentDone}% done`;\n",
              "\n",
              "    } while (position < fileData.byteLength);\n",
              "  }\n",
              "\n",
              "  // All done.\n",
              "  yield {\n",
              "    response: {\n",
              "      action: 'complete',\n",
              "    }\n",
              "  };\n",
              "}\n",
              "\n",
              "scope.google = scope.google || {};\n",
              "scope.google.colab = scope.google.colab || {};\n",
              "scope.google.colab._files = {\n",
              "  _uploadFiles,\n",
              "  _uploadFilesContinue,\n",
              "};\n",
              "})(self);\n",
              "</script> "
            ]
          },
          "metadata": {}
        },
        {
          "output_type": "stream",
          "name": "stdout",
          "text": [
            "Saving song_lyrics_trimmed.xlsx to song_lyrics_trimmed.xlsx\n"
          ]
        }
      ]
    },
    {
      "cell_type": "code",
      "source": [
        "import csv\n",
        "# title, tag, artist, year, views, features, lyrics, id, language_cld3, language_ft, language\n",
        "df = pd.read_excel('song_lyrics_trimmed.xlsx')\n",
        "print('rows and columns:', df.shape)\n",
        "df.head()"
      ],
      "metadata": {
        "colab": {
          "base_uri": "https://localhost:8080/",
          "height": 461
        },
        "id": "WH8bO7HwlgYV",
        "outputId": "b9c54a96-1509-499f-9802-08a55d447504"
      },
      "execution_count": null,
      "outputs": [
        {
          "output_type": "stream",
          "name": "stdout",
          "text": [
            "rows and columns: (2499, 11)\n"
          ]
        },
        {
          "output_type": "execute_result",
          "data": {
            "text/plain": [
              "               title  tag     artist  year   views  \\\n",
              "0          Killa Cam  rap    Cam'ron  2004  173166   \n",
              "1         Can I Live  rap      JAY-Z  1996  468624   \n",
              "2  Forgive Me Father  rap   Fabolous  2003    4743   \n",
              "3       Down and Out  rap    Cam'ron  2004  144404   \n",
              "4             Fly In  rap  Lil Wayne  2005   78271   \n",
              "\n",
              "                                       features  \\\n",
              "0                   {\"Cam\\\\'ron\",\"Opera Steve\"}   \n",
              "1                                            {}   \n",
              "2                                            {}   \n",
              "3  {\"Cam\\\\'ron\",\"Kanye West\",\"Syleena Johnson\"}   \n",
              "4                                            {}   \n",
              "\n",
              "                                              lyrics  id language_cld3  \\\n",
              "0  [Chorus: Opera Steve & Cam'ron]\\nKilla Cam, Ki...   1            en   \n",
              "1  [Produced by Irv Gotti]\\n\\n[Intro]\\nYeah, hah,...   3            en   \n",
              "2  Maybe cause I'm eatin\\nAnd these bastards fien...   4            en   \n",
              "3  [Produced by Kanye West and Brian Miller]\\n\\n[...   5            en   \n",
              "4  [Intro]\\nSo they ask me\\n\"Young boy\\nWhat you ...   6            en   \n",
              "\n",
              "  language_ft language  \n",
              "0          en       en  \n",
              "1          en       en  \n",
              "2          en       en  \n",
              "3          en       en  \n",
              "4          en       en  "
            ],
            "text/html": [
              "\n",
              "  <div id=\"df-45f6d927-a820-47f9-bb7c-10d3fff60125\">\n",
              "    <div class=\"colab-df-container\">\n",
              "      <div>\n",
              "<style scoped>\n",
              "    .dataframe tbody tr th:only-of-type {\n",
              "        vertical-align: middle;\n",
              "    }\n",
              "\n",
              "    .dataframe tbody tr th {\n",
              "        vertical-align: top;\n",
              "    }\n",
              "\n",
              "    .dataframe thead th {\n",
              "        text-align: right;\n",
              "    }\n",
              "</style>\n",
              "<table border=\"1\" class=\"dataframe\">\n",
              "  <thead>\n",
              "    <tr style=\"text-align: right;\">\n",
              "      <th></th>\n",
              "      <th>title</th>\n",
              "      <th>tag</th>\n",
              "      <th>artist</th>\n",
              "      <th>year</th>\n",
              "      <th>views</th>\n",
              "      <th>features</th>\n",
              "      <th>lyrics</th>\n",
              "      <th>id</th>\n",
              "      <th>language_cld3</th>\n",
              "      <th>language_ft</th>\n",
              "      <th>language</th>\n",
              "    </tr>\n",
              "  </thead>\n",
              "  <tbody>\n",
              "    <tr>\n",
              "      <th>0</th>\n",
              "      <td>Killa Cam</td>\n",
              "      <td>rap</td>\n",
              "      <td>Cam'ron</td>\n",
              "      <td>2004</td>\n",
              "      <td>173166</td>\n",
              "      <td>{\"Cam\\\\'ron\",\"Opera Steve\"}</td>\n",
              "      <td>[Chorus: Opera Steve &amp; Cam'ron]\\nKilla Cam, Ki...</td>\n",
              "      <td>1</td>\n",
              "      <td>en</td>\n",
              "      <td>en</td>\n",
              "      <td>en</td>\n",
              "    </tr>\n",
              "    <tr>\n",
              "      <th>1</th>\n",
              "      <td>Can I Live</td>\n",
              "      <td>rap</td>\n",
              "      <td>JAY-Z</td>\n",
              "      <td>1996</td>\n",
              "      <td>468624</td>\n",
              "      <td>{}</td>\n",
              "      <td>[Produced by Irv Gotti]\\n\\n[Intro]\\nYeah, hah,...</td>\n",
              "      <td>3</td>\n",
              "      <td>en</td>\n",
              "      <td>en</td>\n",
              "      <td>en</td>\n",
              "    </tr>\n",
              "    <tr>\n",
              "      <th>2</th>\n",
              "      <td>Forgive Me Father</td>\n",
              "      <td>rap</td>\n",
              "      <td>Fabolous</td>\n",
              "      <td>2003</td>\n",
              "      <td>4743</td>\n",
              "      <td>{}</td>\n",
              "      <td>Maybe cause I'm eatin\\nAnd these bastards fien...</td>\n",
              "      <td>4</td>\n",
              "      <td>en</td>\n",
              "      <td>en</td>\n",
              "      <td>en</td>\n",
              "    </tr>\n",
              "    <tr>\n",
              "      <th>3</th>\n",
              "      <td>Down and Out</td>\n",
              "      <td>rap</td>\n",
              "      <td>Cam'ron</td>\n",
              "      <td>2004</td>\n",
              "      <td>144404</td>\n",
              "      <td>{\"Cam\\\\'ron\",\"Kanye West\",\"Syleena Johnson\"}</td>\n",
              "      <td>[Produced by Kanye West and Brian Miller]\\n\\n[...</td>\n",
              "      <td>5</td>\n",
              "      <td>en</td>\n",
              "      <td>en</td>\n",
              "      <td>en</td>\n",
              "    </tr>\n",
              "    <tr>\n",
              "      <th>4</th>\n",
              "      <td>Fly In</td>\n",
              "      <td>rap</td>\n",
              "      <td>Lil Wayne</td>\n",
              "      <td>2005</td>\n",
              "      <td>78271</td>\n",
              "      <td>{}</td>\n",
              "      <td>[Intro]\\nSo they ask me\\n\"Young boy\\nWhat you ...</td>\n",
              "      <td>6</td>\n",
              "      <td>en</td>\n",
              "      <td>en</td>\n",
              "      <td>en</td>\n",
              "    </tr>\n",
              "  </tbody>\n",
              "</table>\n",
              "</div>\n",
              "      <button class=\"colab-df-convert\" onclick=\"convertToInteractive('df-45f6d927-a820-47f9-bb7c-10d3fff60125')\"\n",
              "              title=\"Convert this dataframe to an interactive table.\"\n",
              "              style=\"display:none;\">\n",
              "        \n",
              "  <svg xmlns=\"http://www.w3.org/2000/svg\" height=\"24px\"viewBox=\"0 0 24 24\"\n",
              "       width=\"24px\">\n",
              "    <path d=\"M0 0h24v24H0V0z\" fill=\"none\"/>\n",
              "    <path d=\"M18.56 5.44l.94 2.06.94-2.06 2.06-.94-2.06-.94-.94-2.06-.94 2.06-2.06.94zm-11 1L8.5 8.5l.94-2.06 2.06-.94-2.06-.94L8.5 2.5l-.94 2.06-2.06.94zm10 10l.94 2.06.94-2.06 2.06-.94-2.06-.94-.94-2.06-.94 2.06-2.06.94z\"/><path d=\"M17.41 7.96l-1.37-1.37c-.4-.4-.92-.59-1.43-.59-.52 0-1.04.2-1.43.59L10.3 9.45l-7.72 7.72c-.78.78-.78 2.05 0 2.83L4 21.41c.39.39.9.59 1.41.59.51 0 1.02-.2 1.41-.59l7.78-7.78 2.81-2.81c.8-.78.8-2.07 0-2.86zM5.41 20L4 18.59l7.72-7.72 1.47 1.35L5.41 20z\"/>\n",
              "  </svg>\n",
              "      </button>\n",
              "      \n",
              "  <style>\n",
              "    .colab-df-container {\n",
              "      display:flex;\n",
              "      flex-wrap:wrap;\n",
              "      gap: 12px;\n",
              "    }\n",
              "\n",
              "    .colab-df-convert {\n",
              "      background-color: #E8F0FE;\n",
              "      border: none;\n",
              "      border-radius: 50%;\n",
              "      cursor: pointer;\n",
              "      display: none;\n",
              "      fill: #1967D2;\n",
              "      height: 32px;\n",
              "      padding: 0 0 0 0;\n",
              "      width: 32px;\n",
              "    }\n",
              "\n",
              "    .colab-df-convert:hover {\n",
              "      background-color: #E2EBFA;\n",
              "      box-shadow: 0px 1px 2px rgba(60, 64, 67, 0.3), 0px 1px 3px 1px rgba(60, 64, 67, 0.15);\n",
              "      fill: #174EA6;\n",
              "    }\n",
              "\n",
              "    [theme=dark] .colab-df-convert {\n",
              "      background-color: #3B4455;\n",
              "      fill: #D2E3FC;\n",
              "    }\n",
              "\n",
              "    [theme=dark] .colab-df-convert:hover {\n",
              "      background-color: #434B5C;\n",
              "      box-shadow: 0px 1px 3px 1px rgba(0, 0, 0, 0.15);\n",
              "      filter: drop-shadow(0px 1px 2px rgba(0, 0, 0, 0.3));\n",
              "      fill: #FFFFFF;\n",
              "    }\n",
              "  </style>\n",
              "\n",
              "      <script>\n",
              "        const buttonEl =\n",
              "          document.querySelector('#df-45f6d927-a820-47f9-bb7c-10d3fff60125 button.colab-df-convert');\n",
              "        buttonEl.style.display =\n",
              "          google.colab.kernel.accessAllowed ? 'block' : 'none';\n",
              "\n",
              "        async function convertToInteractive(key) {\n",
              "          const element = document.querySelector('#df-45f6d927-a820-47f9-bb7c-10d3fff60125');\n",
              "          const dataTable =\n",
              "            await google.colab.kernel.invokeFunction('convertToInteractive',\n",
              "                                                     [key], {});\n",
              "          if (!dataTable) return;\n",
              "\n",
              "          const docLinkHtml = 'Like what you see? Visit the ' +\n",
              "            '<a target=\"_blank\" href=https://colab.research.google.com/notebooks/data_table.ipynb>data table notebook</a>'\n",
              "            + ' to learn more about interactive tables.';\n",
              "          element.innerHTML = '';\n",
              "          dataTable['output_type'] = 'display_data';\n",
              "          await google.colab.output.renderOutput(dataTable, element);\n",
              "          const docLink = document.createElement('div');\n",
              "          docLink.innerHTML = docLinkHtml;\n",
              "          element.appendChild(docLink);\n",
              "        }\n",
              "      </script>\n",
              "    </div>\n",
              "  </div>\n",
              "  "
            ]
          },
          "metadata": {},
          "execution_count": 2
        }
      ]
    },
    {
      "cell_type": "code",
      "source": [
        "# clean data (no duplicates and NaN)\n",
        "df.drop_duplicates(inplace=True)\n",
        "no_of_nan_values=df.isna().sum().sum()\n",
        "print(no_of_nan_values)"
      ],
      "metadata": {
        "colab": {
          "base_uri": "https://localhost:8080/"
        },
        "id": "lAMtg7J-mgJz",
        "outputId": "40a347d3-326c-4edf-c059-280bc860fcc4"
      },
      "execution_count": null,
      "outputs": [
        {
          "output_type": "stream",
          "name": "stdout",
          "text": [
            "13\n"
          ]
        }
      ]
    },
    {
      "cell_type": "code",
      "source": [
        "df['text_word_count']=df['lyrics'].apply(lambda x:len(x.split()))\n",
        "print(type(df['text_word_count']))\n",
        "print(df['text_word_count'])"
      ],
      "metadata": {
        "colab": {
          "base_uri": "https://localhost:8080/"
        },
        "id": "wHXQfopYmk8l",
        "outputId": "02b6f7ca-8071-4105-cd53-75b90863a3ed"
      },
      "execution_count": null,
      "outputs": [
        {
          "output_type": "stream",
          "name": "stdout",
          "text": [
            "<class 'pandas.core.series.Series'>\n",
            "0       762\n",
            "1       548\n",
            "2       574\n",
            "3       760\n",
            "4       432\n",
            "       ... \n",
            "2494    541\n",
            "2495    114\n",
            "2496    574\n",
            "2497    372\n",
            "2498    332\n",
            "Name: text_word_count, Length: 2499, dtype: int64\n"
          ]
        }
      ]
    },
    {
      "cell_type": "code",
      "source": [
        "# text preprocessing\n",
        "import nltk\n",
        "nltk.download('stopwords')"
      ],
      "metadata": {
        "colab": {
          "base_uri": "https://localhost:8080/"
        },
        "id": "KmC_Cjou2OJR",
        "outputId": "5945cc87-8041-43e4-fbf5-6be30590921c"
      },
      "execution_count": null,
      "outputs": [
        {
          "output_type": "stream",
          "name": "stderr",
          "text": [
            "[nltk_data] Downloading package stopwords to /root/nltk_data...\n",
            "[nltk_data]   Unzipping corpora/stopwords.zip.\n"
          ]
        },
        {
          "output_type": "execute_result",
          "data": {
            "text/plain": [
              "True"
            ]
          },
          "metadata": {},
          "execution_count": 5
        }
      ]
    },
    {
      "cell_type": "code",
      "source": [
        "from nltk.corpus import stopwords\n",
        "from sklearn.feature_extraction.text import TfidfVectorizer\n",
        "import re\n",
        "\n",
        "#print(df.lyrics[2])\n",
        "# for val in df['lyrics'].values:\n",
        "#   new_val = re.sub(\"\\n\",\" \",val)\n",
        "#   new_val = re.sub(\"[\\(\\[].*?[\\)\\]]\", \"\", val)\n",
        "#   df.replace(val, new_val)\n",
        "#print(df.at[2, 'lyrics'])\n",
        "for i in range(1, 2499):\n",
        "  val = df.at[i, 'lyrics']\n",
        "  new_val = re.sub(\"\\n\",\" \", val)\n",
        "  new_val = re.sub(\"[\\(\\[].*?[\\)\\]]\", \"\", val)\n",
        "  df.at[i, 'lyrics'] = new_val\n",
        "#print(df.at[2, 'lyrics'])\n",
        "\n",
        "stopwords = set(stopwords.words('english'))\n",
        "#vectorizer = TfidfVectorizer(stop_words=list(stopwords))\n",
        "vectorizer_b = TfidfVectorizer(stop_words=list(stopwords), binary=True)\n",
        "# .{column names}\n",
        "X = df.lyrics   #features\n",
        "print(type(X))\n",
        "Y = df.tag  #targets\n",
        "print(type(Y))\n",
        "X.head()"
      ],
      "metadata": {
        "colab": {
          "base_uri": "https://localhost:8080/"
        },
        "id": "OqPRvqln1nYI",
        "outputId": "7a04fc48-a4f9-48f2-c32c-489f7b45bb4b"
      },
      "execution_count": null,
      "outputs": [
        {
          "output_type": "stream",
          "name": "stdout",
          "text": [
            "<class 'pandas.core.series.Series'>\n",
            "<class 'pandas.core.series.Series'>\n"
          ]
        },
        {
          "output_type": "execute_result",
          "data": {
            "text/plain": [
              "0    [Chorus: Opera Steve & Cam'ron]\\nKilla Cam, Ki...\n",
              "1    \\n\\n\\nYeah, hah, yeah, Roc-A-Fella\\nWe invite ...\n",
              "2    Maybe cause I'm eatin\\nAnd these bastards fien...\n",
              "3    \\n\\n\\nUgh, Killa!\\nBaby!\\nKanye, this that 197...\n",
              "4    \\nSo they ask me\\n\"Young boy\\nWhat you gon' do...\n",
              "Name: lyrics, dtype: object"
            ]
          },
          "metadata": {},
          "execution_count": 6
        }
      ]
    },
    {
      "cell_type": "code",
      "source": [
        "# divide into train/test\n",
        "from sklearn.model_selection import train_test_split\n",
        "\n",
        "X_train, X_test, Y_train, Y_test = train_test_split(X, Y, test_size=0.25, train_size=0.75, random_state=1234)\n",
        "X_train.shape"
      ],
      "metadata": {
        "colab": {
          "base_uri": "https://localhost:8080/"
        },
        "id": "W_wA2fQk1e27",
        "outputId": "c577782a-3648-4fb2-9f49-4b452567fade"
      },
      "execution_count": null,
      "outputs": [
        {
          "output_type": "execute_result",
          "data": {
            "text/plain": [
              "(1874,)"
            ]
          },
          "metadata": {},
          "execution_count": 7
        }
      ]
    },
    {
      "cell_type": "code",
      "source": [
        "# apply tfidf vectorizer\n",
        "X_train_list = X_train.values.astype('U').tolist()\n",
        "X_test_list = X_test.values.astype('U').tolist()\n",
        "X_train = vectorizer_b.fit_transform(X_train_list)  # fit and transform the train data\n",
        "X_test = vectorizer_b.transform(X_test_list)        # transform only the test data"
      ],
      "metadata": {
        "id": "fxaB3asCJius"
      },
      "execution_count": null,
      "outputs": []
    },
    {
      "cell_type": "code",
      "source": [
        "import seaborn as sb\n",
        "import matplotlib.pyplot as plt\n",
        "\n",
        "label=df['tag'].unique()\n",
        "#print(label)\n",
        "plt.figure(figsize=(10,10))\n",
        "#colors = [sb.color_palette('pastel')[0], sb.color_palette('pastel')[4]]\n",
        "colors = ['palegreen','mediumspringgreen','mediumturquoise', 'mediumseagreen', 'forestgreen']\n",
        "plt.pie(df['tag'].value_counts(),labels=label,autopct='%.1f%%',colors=colors);\n",
        "plt.ylabel('Song Genre');\n",
        "\n",
        "# for name, group in df.groupby(level=0):\n",
        "#     group.index = group.index.droplevel(0)\n",
        "#     group.plot.pie(autopct='%1.1f%%', shadow=True, startangle=140)"
      ],
      "metadata": {
        "colab": {
          "base_uri": "https://localhost:8080/",
          "height": 648
        },
        "id": "xCDNc2cfJmry",
        "outputId": "d20adaea-dbac-418e-f9b8-341a2bf6a793"
      },
      "execution_count": null,
      "outputs": [
        {
          "output_type": "display_data",
          "data": {
            "text/plain": [
              "<Figure size 1000x1000 with 1 Axes>"
            ],
            "image/png": "[encoded data removed]"
          },
          "metadata": {}
        }
      ]
    },
    {
      "cell_type": "markdown",
      "source": [
        "## Describe dataset and what the model should be able to predict:\n",
        "\n",
        "This dataset contains song lyrics scraped from Genius and consists of 11 columns. The relevant columns are the 'lyrics' and the 'tag' columns because I will be analyzing the lyrics to predict the genre of the song. The dataset is very unbalanced, but hopefully this will still yield a meaaningful analysis of different ML models."
      ],
      "metadata": {
        "id": "K5EA9--XB8Pd"
      }
    },
    {
      "cell_type": "code",
      "source": [
        "'''\n",
        "- evalute models on test data\n",
        "  [X]- sequential model \n",
        "  - RNN\n",
        "  - CNN\n",
        "  - etc (?)\n",
        "  - embedding approaches\n",
        "'''"
      ],
      "metadata": {
        "id": "s7WLicfz3HSM"
      },
      "execution_count": null,
      "outputs": []
    },
    {
      "cell_type": "markdown",
      "source": [
        "## Sequential Model"
      ],
      "metadata": {
        "id": "bFlIA1BI28SR"
      }
    },
    {
      "cell_type": "code",
      "source": [
        "# run first cell for imports\n",
        "\n",
        "# split into train and test\n",
        "i = np.random.rand(len(df)) < 0.75\n",
        "train = df[i]\n",
        "test = df[~i]\n",
        "print(\"train data size: \", train.shape)\n",
        "print(\"test data size: \", test.shape)\n",
        "\n",
        "# fit model\n",
        "num_labels = 5\n",
        "vocab_size = 2500\n",
        "batch_size = 85\n",
        "\n",
        "# fit the tokenizer on the training data\n",
        "tokenizer = Tokenizer(num_words=vocab_size)\n",
        "tokenizer.fit_on_texts(train.lyrics)\n",
        "\n",
        "x_train = tokenizer.texts_to_matrix(train.lyrics, mode='tfidf')\n",
        "x_test = tokenizer.texts_to_matrix(test.lyrics, mode='tfidf')\n",
        "\n",
        "encoder = LabelEncoder()\n",
        "encoder.fit(train.tag)\n",
        "y_train = encoder.transform(train.tag)\n",
        "y_test = encoder.transform(test.tag)\n",
        "\n",
        "\n",
        "model = models.Sequential()\n",
        "model.add(layers.Dense(32, input_dim=vocab_size, kernel_initializer='normal', activation='relu'))\n",
        "model.add(layers.Dense(1, kernel_initializer='normal', activation='sigmoid'))\n",
        " \n",
        "model.compile(loss='binary_crossentropy',\n",
        "              optimizer='adam',\n",
        "              metrics=['accuracy'])\n",
        " \n",
        "history = model.fit(x_train, y_train,\n",
        "                    batch_size=batch_size,\n",
        "                    epochs=30,\n",
        "                    verbose=1,\n",
        "                    validation_split=0.1)"
      ],
      "metadata": {
        "colab": {
          "base_uri": "https://localhost:8080/"
        },
        "id": "a1FwHLN8IiCH",
        "outputId": "447501c4-54cd-4140-a8e7-d52c00295975"
      },
      "execution_count": null,
      "outputs": [
        {
          "output_type": "stream",
          "name": "stdout",
          "text": [
            "train data size:  (1887, 12)\n",
            "test data size:  (612, 12)\n",
            "Epoch 1/30\n",
            "20/20 [==============================] - 1s 15ms/step - loss: -2.7248 - accuracy: 0.0259 - val_loss: -7.0787 - val_accuracy: 0.0265\n",
            "Epoch 2/30\n",
            "20/20 [==============================] - 0s 7ms/step - loss: -15.5515 - accuracy: 0.0271 - val_loss: -23.8892 - val_accuracy: 0.0265\n",
            "Epoch 3/30\n",
            "20/20 [==============================] - 0s 6ms/step - loss: -40.6832 - accuracy: 0.0271 - val_loss: -53.6545 - val_accuracy: 0.0265\n",
            "Epoch 4/30\n",
            "20/20 [==============================] - 0s 6ms/step - loss: -81.5667 - accuracy: 0.0271 - val_loss: -98.6244 - val_accuracy: 0.0265\n",
            "Epoch 5/30\n",
            "20/20 [==============================] - 0s 7ms/step - loss: -140.3082 - accuracy: 0.0271 - val_loss: -161.3643 - val_accuracy: 0.0265\n",
            "Epoch 6/30\n",
            "20/20 [==============================] - 0s 7ms/step - loss: -219.4699 - accuracy: 0.0271 - val_loss: -242.8314 - val_accuracy: 0.0265\n",
            "Epoch 7/30\n",
            "20/20 [==============================] - 0s 7ms/step - loss: -319.7298 - accuracy: 0.0271 - val_loss: -343.9164 - val_accuracy: 0.0265\n",
            "Epoch 8/30\n",
            "20/20 [==============================] - 0s 6ms/step - loss: -442.8947 - accuracy: 0.0271 - val_loss: -465.9676 - val_accuracy: 0.0265\n",
            "Epoch 9/30\n",
            "20/20 [==============================] - 0s 7ms/step - loss: -588.8719 - accuracy: 0.0271 - val_loss: -609.8535 - val_accuracy: 0.0265\n",
            "Epoch 10/30\n",
            "20/20 [==============================] - 0s 7ms/step - loss: -759.8885 - accuracy: 0.0271 - val_loss: -775.1863 - val_accuracy: 0.0265\n",
            "Epoch 11/30\n",
            "20/20 [==============================] - 0s 6ms/step - loss: -955.2155 - accuracy: 0.0271 - val_loss: -965.0045 - val_accuracy: 0.0265\n",
            "Epoch 12/30\n",
            "20/20 [==============================] - 0s 6ms/step - loss: -1176.9156 - accuracy: 0.0271 - val_loss: -1176.2983 - val_accuracy: 0.0265\n",
            "Epoch 13/30\n",
            "20/20 [==============================] - 0s 6ms/step - loss: -1422.6307 - accuracy: 0.0271 - val_loss: -1408.6361 - val_accuracy: 0.0265\n",
            "Epoch 14/30\n",
            "20/20 [==============================] - 0s 6ms/step - loss: -1691.1774 - accuracy: 0.0271 - val_loss: -1662.2770 - val_accuracy: 0.0265\n",
            "Epoch 15/30\n",
            "20/20 [==============================] - 0s 8ms/step - loss: -1982.2949 - accuracy: 0.0271 - val_loss: -1936.9935 - val_accuracy: 0.0265\n",
            "Epoch 16/30\n",
            "20/20 [==============================] - 0s 7ms/step - loss: -2296.5603 - accuracy: 0.0271 - val_loss: -2230.9700 - val_accuracy: 0.0265\n",
            "Epoch 17/30\n",
            "20/20 [==============================] - 0s 7ms/step - loss: -2632.3914 - accuracy: 0.0271 - val_loss: -2544.4976 - val_accuracy: 0.0265\n",
            "Epoch 18/30\n",
            "20/20 [==============================] - 0s 7ms/step - loss: -2989.6799 - accuracy: 0.0271 - val_loss: -2877.7727 - val_accuracy: 0.0265\n",
            "Epoch 19/30\n",
            "20/20 [==============================] - 0s 6ms/step - loss: -3369.0642 - accuracy: 0.0271 - val_loss: -3229.6733 - val_accuracy: 0.0265\n",
            "Epoch 20/30\n",
            "20/20 [==============================] - 0s 6ms/step - loss: -3768.5215 - accuracy: 0.0271 - val_loss: -3601.6848 - val_accuracy: 0.0265\n",
            "Epoch 21/30\n",
            "20/20 [==============================] - 0s 7ms/step - loss: -4189.3076 - accuracy: 0.0271 - val_loss: -3992.8403 - val_accuracy: 0.0265\n",
            "Epoch 22/30\n",
            "20/20 [==============================] - 0s 6ms/step - loss: -4631.6260 - accuracy: 0.0271 - val_loss: -4401.5234 - val_accuracy: 0.0265\n",
            "Epoch 23/30\n",
            "20/20 [==============================] - 0s 9ms/step - loss: -5094.2773 - accuracy: 0.0271 - val_loss: -4828.4453 - val_accuracy: 0.0265\n",
            "Epoch 24/30\n",
            "20/20 [==============================] - 0s 8ms/step - loss: -5576.4312 - accuracy: 0.0271 - val_loss: -5274.6499 - val_accuracy: 0.0265\n",
            "Epoch 25/30\n",
            "20/20 [==============================] - 0s 7ms/step - loss: -6079.7832 - accuracy: 0.0271 - val_loss: -5738.2183 - val_accuracy: 0.0265\n",
            "Epoch 26/30\n",
            "20/20 [==============================] - 0s 7ms/step - loss: -6603.3452 - accuracy: 0.0271 - val_loss: -6219.1431 - val_accuracy: 0.0265\n",
            "Epoch 27/30\n",
            "20/20 [==============================] - 0s 7ms/step - loss: -7144.0771 - accuracy: 0.0271 - val_loss: -6721.2739 - val_accuracy: 0.0265\n",
            "Epoch 28/30\n",
            "20/20 [==============================] - 0s 7ms/step - loss: -7709.2197 - accuracy: 0.0271 - val_loss: -7236.4565 - val_accuracy: 0.0265\n",
            "Epoch 29/30\n",
            "20/20 [==============================] - 0s 7ms/step - loss: -8287.9336 - accuracy: 0.0271 - val_loss: -7774.5205 - val_accuracy: 0.0265\n",
            "Epoch 30/30\n",
            "20/20 [==============================] - 0s 7ms/step - loss: -8891.8672 - accuracy: 0.0271 - val_loss: -8325.3984 - val_accuracy: 0.0265\n"
          ]
        }
      ]
    },
    {
      "cell_type": "code",
      "source": [
        "# evaluate\n",
        "score = model.evaluate(x_test, y_test, batch_size=batch_size, verbose=1)\n",
        "print('Accuracy: ', score[1])"
      ],
      "metadata": {
        "colab": {
          "base_uri": "https://localhost:8080/"
        },
        "id": "Zc6nbP9d2USs",
        "outputId": "9c643306-a43d-41be-a890-75a78d953a0a"
      },
      "execution_count": null,
      "outputs": [
        {
          "output_type": "stream",
          "name": "stdout",
          "text": [
            "8/8 [==============================] - 0s 3ms/step - loss: -8965.6670 - accuracy: 0.0278\n",
            "Accuracy:  0.02777777798473835\n"
          ]
        }
      ]
    },
    {
      "cell_type": "markdown",
      "source": [
        "## RNN"
      ],
      "metadata": {
        "id": "_b9NBZwR2_b0"
      }
    },
    {
      "cell_type": "code",
      "source": [
        "import tensorflow as tf\n",
        "from tensorflow.keras import datasets, layers, models, preprocessing\n",
        "\n",
        "max_features = 10000\n",
        "maxlen = 500\n",
        "batch_size = 32\n",
        "\n",
        "# load the data\n",
        "(train_data, train_labels), (test_data, test_labels) = datasets.imdb.load_data(num_words=max_features)\n",
        "\n",
        "# pad the data to maxlen\n",
        "train_data = preprocessing.sequence.pad_sequences(train_data, maxlen=maxlen)\n",
        "test_data = preprocessing.sequence.pad_sequences(test_data, maxlen=maxlen)"
      ],
      "metadata": {
        "colab": {
          "base_uri": "https://localhost:8080/"
        },
        "id": "woQFHXUQ3BjC",
        "outputId": "3ce4aa43-a61e-4cd8-de6e-5c67c30c27bd"
      },
      "execution_count": null,
      "outputs": [
        {
          "output_type": "stream",
          "name": "stdout",
          "text": [
            "Downloading data from https://storage.googleapis.com/tensorflow/tf-keras-datasets/imdb.npz\n",
            "17464789/17464789 [==============================] - 0s 0us/step\n"
          ]
        }
      ]
    }
  ]
}